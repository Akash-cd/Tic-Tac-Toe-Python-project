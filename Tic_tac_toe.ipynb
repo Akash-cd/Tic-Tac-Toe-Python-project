{
 "cells": [
  {
   "cell_type": "code",
   "execution_count": 5,
   "id": "d8658cd3-1401-4dc2-b078-8d07cd444eaa",
   "metadata": {},
   "outputs": [],
   "source": [
    "the_board = [' ']*10"
   ]
  },
  {
   "cell_type": "code",
   "execution_count": 6,
   "id": "29b1f187-8ae6-494a-9a5b-b985a5b3a0a3",
   "metadata": {},
   "outputs": [],
   "source": [
    "# STEP 1 BULID BOARD\n",
    "from IPython.display import clear_output\n",
    "\n",
    "def display_board(board):\n",
    "     clear_output()\n",
    "    \n",
    "     print(' ' + board[1]+ '  | '+ board[2]+ ' | ' +board[3]) \n",
    "     \n",
    "     print('  ---------')\n",
    "     \n",
    "     print(' ' + board[4]+ '  | '+ board[5]+ ' | ' +board[6])\n",
    "     \n",
    "     print('  ---------')\n",
    "     print(' ' + board[7]+ '  | '+ board[8]+ ' | ' +board[9])\n",
    "     \n",
    "     \n",
    "     \n",
    "\n"
   ]
  },
  {
   "cell_type": "code",
   "execution_count": 7,
   "id": "675d531b-6bae-4a5f-af23-947e8ba5b4e8",
   "metadata": {},
   "outputs": [],
   "source": [
    "# STEP 2 ASSIGN MARKER (X AND O ) TO THE PLAYER\n",
    "\n",
    "def player_input():\n",
    "    marker = ''\n",
    "    while marker!= 'X' and marker!='O':\n",
    "        marker = input('Player1 choose your marker (X OR O): ').upper()\n",
    "        if marker not in ['X','O']:\n",
    "            print('Please choose correct marker')\n",
    "    if marker == 'X':\n",
    "        return('X','O')\n",
    "    else:\n",
    "        return('O','X')\n",
    "    "
   ]
  },
  {
   "cell_type": "code",
   "execution_count": 8,
   "id": "7da7845e-c1bc-4581-9579-9b1a38f5e57e",
   "metadata": {},
   "outputs": [],
   "source": [
    "# STEP 3 MAKE PLACE ON BOARD\n",
    "\n",
    "def place_marker(board,marker,postion):\n",
    "    board[postion] = marker"
   ]
  },
  {
   "cell_type": "code",
   "execution_count": 9,
   "id": "245a30ac-7c11-4b5a-9953-ad70b3551dd6",
   "metadata": {},
   "outputs": [],
   "source": [
    "# STEP 4 WIN CHECK WINNER\n",
    "\n",
    "def win_check(board,mark):\n",
    "    \n",
    "\n",
    "    return((board[1] == mark and board[2] == mark and board[3] == mark)or\n",
    "           (board[4] == mark and board[5] == mark and board[6] == mark)or\n",
    "           (board[7] == mark and board[8] == mark and board[9] == mark)or\n",
    "           (board[1] == mark and board[4] == mark and board[7] == mark)or\n",
    "           (board[2] == mark and board[5] == mark and board[8] == mark)or\n",
    "           (board[3] == mark and board[6] == mark and board[9] == mark)or\n",
    "           (board[1] == mark and board[5] == mark and board[9] == mark)or\n",
    "           (board[3] == mark and board[5] == mark and board[7]== mark))\n",
    "    "
   ]
  },
  {
   "cell_type": "code",
   "execution_count": 10,
   "id": "18b331de-1d52-4990-9bfb-45f8612a6a79",
   "metadata": {},
   "outputs": [],
   "source": [
    "# STEP 5 CHOOSE RANDOM PLAYER\n",
    "\n",
    "import random\n",
    "def choose_first():\n",
    "    num = random.randint(0,1)\n",
    "    if num == 0:\n",
    "        return ('Player1')\n",
    "    else:\n",
    "        return ('Player2')"
   ]
  },
  {
   "cell_type": "code",
   "execution_count": 11,
   "id": "4b04bae9-c07b-4c68-9e39-a287e47407ff",
   "metadata": {},
   "outputs": [],
   "source": [
    "# STEP 6 CHECK SPACE REMAIN ON BOARD\n",
    "\n",
    "def space_check(board,postion):\n",
    "    return board[postion] == ' '"
   ]
  },
  {
   "cell_type": "code",
   "execution_count": 12,
   "id": "607369cc-14e1-4600-9e6b-9a09b271064a",
   "metadata": {},
   "outputs": [],
   "source": [
    "# STEP 7 FULL BOARD CHECK\n",
    "\n",
    "def full_board_check(board):\n",
    "    for i in range(1,10):\n",
    "        if space_check(board,i):\n",
    "            return False\n",
    "    return True"
   ]
  },
  {
   "cell_type": "code",
   "execution_count": 17,
   "id": "2f4b45fb-a3ad-4747-b59f-1ab711dedfb7",
   "metadata": {},
   "outputs": [],
   "source": [
    "# STEP 8 TAKE PLAYER CHOICE TO PLACE MARKER\n",
    "\n",
    "def player_choice(board):\n",
    "    postion = 0\n",
    "    while postion not in (1,2,3,4,5,6,7,8,9) or space_check(board,postion)== False:\n",
    "        postion = int(input('Choose your position to place a marker: '))\n",
    "        if postion not in (1,2,3,4,5,6,7,8,9):\n",
    "            print('Please enter valid postion between ( 1 to 9)')\n",
    "    return postion"
   ]
  },
  {
   "cell_type": "code",
   "execution_count": 14,
   "id": "f1eb44ea-e933-48a1-bdfc-7662f92cdadc",
   "metadata": {},
   "outputs": [],
   "source": [
    "# STEP 9 CHECK WANT TO PLAY AGAIN\n",
    "\n",
    "def replay():\n",
    "    choice = input('Want to play agin Y or N: ').lower()\n",
    "    return choice == 'y'"
   ]
  },
  {
   "cell_type": "code",
   "execution_count": 41,
   "id": "7bbd7ef8-7111-4944-bf18-1c4efd01690e",
   "metadata": {},
   "outputs": [
    {
     "name": "stdout",
     "output_type": "stream",
     "text": [
      " X  | O | X\n",
      "  ---------\n",
      " O  | X | O\n",
      "  ---------\n",
      " X  |   |  \n",
      "Player1 has won the game!\n"
     ]
    },
    {
     "name": "stdin",
     "output_type": "stream",
     "text": [
      "Want to play agin Y or N:  N\n"
     ]
    }
   ],
   "source": [
    "# LETS BUILD THE GAME\n",
    "\n",
    "print('Welcome to Tic Tac Toe game develope by Akash')\n",
    "\n",
    "while True:\n",
    "\n",
    "    the_board = [' ']*10\n",
    "    \n",
    "    player1_marker,player2_marker = player_input()\n",
    "    \n",
    "    turn = choose_first()\n",
    "    print(turn + ' Will go first')\n",
    "    \n",
    "   \n",
    "    play_game = input('Ready to play game Y or N: ').lower()\n",
    "    if play_game == 'y':\n",
    "            \n",
    "         game_on = True\n",
    "    else:\n",
    "         game_on = False\n",
    "    \n",
    "    \n",
    "        \n",
    "    while game_on == True:\n",
    "    \n",
    "        \n",
    "        if turn == 'Player1':\n",
    "            \n",
    "            display_board(the_board)\n",
    "            postion = player_choice(the_board)\n",
    "            place_marker(the_board,player1_marker,postion)\n",
    "            if win_check(the_board,player1_marker):\n",
    "                display_board(the_board)\n",
    "                print('Player1 has won the game!')\n",
    "                game_on = False\n",
    "            else:\n",
    "                if full_board_check(the_board):\n",
    "                    display_board(the_board)\n",
    "                    print('Game is tie')\n",
    "                    game_on = False\n",
    "                else:\n",
    "                    turn = 'Player2'\n",
    "\n",
    "        else:\n",
    "            display_board(the_board)\n",
    "            postion = player_choice(the_board)\n",
    "            place_marker(the_board,player2_marker,postion)\n",
    "            if win_check(the_board,player2_marker):\n",
    "                display_board(the_board)\n",
    "                print('Player2 has won the game!')\n",
    "                game_on = False\n",
    "            else:\n",
    "                if full_board_check(the_board):\n",
    "                    display_board(the_board)\n",
    "                    print('Game is tie')\n",
    "                    game_on = False\n",
    "                else:\n",
    "                    turn = 'Player1'\n",
    "\n",
    "\n",
    "    if not replay():\n",
    "         break\n",
    "      \n",
    "    \n",
    "\n",
    "\n",
    "            \n",
    "                \n",
    "            \n",
    "            \n",
    "            \n",
    "\n",
    "\n",
    "\n",
    "\n",
    "    "
   ]
  }
 ],
 "metadata": {
  "kernelspec": {
   "display_name": "Python 3 (ipykernel)",
   "language": "python",
   "name": "python3"
  },
  "language_info": {
   "codemirror_mode": {
    "name": "ipython",
    "version": 3
   },
   "file_extension": ".py",
   "mimetype": "text/x-python",
   "name": "python",
   "nbconvert_exporter": "python",
   "pygments_lexer": "ipython3",
   "version": "3.11.5"
  }
 },
 "nbformat": 4,
 "nbformat_minor": 5
}
